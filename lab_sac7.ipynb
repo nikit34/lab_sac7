{
 "cells": [
  {
   "cell_type": "markdown",
   "id": "downtown-semester",
   "metadata": {},
   "source": [
    "# Лабораторная работа 7\n",
    "## Матрицы, СЛАУ (Wolfram)\n",
    "\n",
    "### Вариант 2. уравнение поверхности второго порядка в простраснтве\n",
    "\n",
    "#### Задание\n",
    "* задание системы уравнений для поиска собс. чисел в общем виде,\n",
    "* \t\tполучение слау не вручную, а через матричные операции умножения,\n",
    "*\t\tрешение этой системы,\n",
    "*\t\tполучение характеристического полинома через определитель,\n",
    "*\t\tавтоматизированное сравнение с хар. полиномом по встроенным функциям Wolfram,\n",
    "*\t\tрешение хар. полинома и получение таким образом собс. чисел,\n",
    "*\t\tавтоматизированная проверка собственных чисел с встроенными в Wolfram функциями по получению собс. чисел,\n",
    "*\t\tаналогично для собс. векторов.\n",
    "*\t\tГрафик для исходного,\n",
    "*\t\tграфик для уравнения в каноническом виде."
   ]
  },
  {
   "cell_type": "code",
   "execution_count": null,
   "id": "surgical-telling",
   "metadata": {},
   "outputs": [],
   "source": [
    "f := 6*x^2 + 12*x*y + 7*y^2 + 2*x*z + 3*z^2 + 5*x + 5*y + 5*z - 18;\n",
    "f // TraditionalForm"
   ]
  },
  {
   "cell_type": "code",
   "execution_count": null,
   "id": "normal-danger",
   "metadata": {},
   "outputs": [],
   "source": [
    "xmin, xmax = -10, 10\n",
    "ymin, ymax = -10, 10\n",
    "zmin, zmax = -10, 10\n",
    "funcInit[a_, b_, c_] := f /. {x->a, y->b, z->c}\n",
    "ContourPlot3D[funcInit[x, y, z] == 0, {x, xmin, xmax}, {y, ymin, ymax}, {z, zmin, zmax}]"
   ]
  },
  {
   "cell_type": "markdown",
   "id": "entire-serbia",
   "metadata": {},
   "source": [
    "график исходной функции\n",
    "запишем коэффициенты уравнения поверхности"
   ]
  },
  {
   "cell_type": "code",
   "execution_count": null,
   "id": "north-purpose",
   "metadata": {},
   "outputs": [],
   "source": [
    "a11 = 6\n",
    "a22 = 7\n",
    "a33 = 3\n",
    "a12 = 6\n",
    "a13 = 1\n",
    "a23 = 0 \n",
    "a0 = -18\n",
    "a1 = 5 / 2\n",
    "a2 = 5 / 2\n",
    "a3 = 5 / 2\n",
    "\n",
    "A = {\n",
    "        {a11, a12, a13},\n",
    "        {a12, a22, a23},\n",
    "        {a13, a23, a33}\n",
    "    };\n",
    "A // MatrixForm"
   ]
  },
  {
   "cell_type": "markdown",
   "id": "palestinian-light",
   "metadata": {},
   "source": [
    "Характеристический многочлен"
   ]
  },
  {
   "cell_type": "code",
   "execution_count": null,
   "id": "bored-withdrawal",
   "metadata": {},
   "outputs": [],
   "source": [
    "detA = Det[A - IdentityMatrix[3] * l];\n",
    "detA // TraditionalForm"
   ]
  },
  {
   "cell_type": "markdown",
   "id": "revised-shannon",
   "metadata": {},
   "source": [
    "Проверим найденный характеристический многочлен, через стандартный метод"
   ]
  },
  {
   "cell_type": "code",
   "execution_count": null,
   "id": "certified-agency",
   "metadata": {},
   "outputs": [],
   "source": [
    "standDetA = CharacteristicPolynomial[A, l]\n",
    "SameQ[detA, standDetA]"
   ]
  },
  {
   "cell_type": "markdown",
   "id": "contemporary-alexander",
   "metadata": {},
   "source": [
    "Найдем собственные числа"
   ]
  },
  {
   "cell_type": "code",
   "execution_count": null,
   "id": "desirable-calibration",
   "metadata": {},
   "outputs": [],
   "source": [
    "sols = Solve[detA == 0, l]\n",
    "eigenVal = l /. sols"
   ]
  },
  {
   "cell_type": "markdown",
   "id": "nervous-talent",
   "metadata": {},
   "source": [
    "Проверим найденные собственные числа, через стандартный метод"
   ]
  },
  {
   "cell_type": "code",
   "execution_count": null,
   "id": "bearing-curtis",
   "metadata": {},
   "outputs": [],
   "source": [
    "standEigenVal = Eigenvalues[A]"
   ]
  },
  {
   "cell_type": "code",
   "execution_count": null,
   "id": "living-librarian",
   "metadata": {},
   "outputs": [],
   "source": [
    "SameQ[eigenVal, standEigenVal]"
   ]
  },
  {
   "cell_type": "markdown",
   "id": "virtual-necklace",
   "metadata": {},
   "source": [
    "значения одинаковы, но в разном порядке, сортируем"
   ]
  },
  {
   "cell_type": "code",
   "execution_count": null,
   "id": "wound-sentence",
   "metadata": {},
   "outputs": [],
   "source": [
    "SameQ[Sort[eigenVal], Sort[standEigenVal]]"
   ]
  },
  {
   "cell_type": "code",
   "execution_count": null,
   "id": "separate-intro",
   "metadata": {},
   "outputs": [],
   "source": []
  },
  {
   "cell_type": "code",
   "execution_count": null,
   "id": "cultural-jumping",
   "metadata": {},
   "outputs": [],
   "source": []
  },
  {
   "cell_type": "code",
   "execution_count": null,
   "id": "swiss-armenia",
   "metadata": {},
   "outputs": [],
   "source": []
  }
 ],
 "metadata": {
  "kernelspec": {
   "display_name": "Wolfram Language 12.2",
   "language": "Wolfram Language",
   "name": "wolframlanguage12.2"
  }
 },
 "nbformat": 4,
 "nbformat_minor": 5
}
