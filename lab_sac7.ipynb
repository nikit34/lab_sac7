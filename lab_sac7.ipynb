{
 "cells": [
  {
   "cell_type": "markdown",
   "id": "downtown-semester",
   "metadata": {},
   "source": [
    "# Лабораторная работа 7\n",
    "## Матрицы, СЛАУ (Wolfram)\n",
    "\n",
    "### Вариант 2. уравнение поверхности второго порядка в простраснтве\n",
    "\n",
    "#### Задание\n",
    "* задание системы уравнений для поиска собс. чисел в общем виде,\n",
    "* \t\tполучение слау не вручную, а через матричные операции умножения,\n",
    "*\t\tрешение этой системы,\n",
    "*\t\tполучение характеристического полинома через определитель,\n",
    "*\t\tавтоматизированное сравнение с хар. полиномом по встроенным функциям Wolfram,\n",
    "*\t\tрешение хар. полинома и получение таким образом собс. чисел,\n",
    "*\t\tавтоматизированная проверка собственных чисел с встроенными в Wolfram функциями по получению собс. чисел,\n",
    "*\t\tаналогично для собс. векторов.\n",
    "*\t\tГрафик для исходного,\n",
    "*\t\tграфик для уравнения в каноническом виде."
   ]
  },
  {
   "cell_type": "code",
   "execution_count": null,
   "id": "surgical-telling",
   "metadata": {},
   "outputs": [],
   "source": [
    "f := 6*x^2 + 12*x*y + 7*y^2 + 2*x*z + 3*z^2 + 5*x + 5*y + 5*z - 18\n",
    "f // TraditionalForm"
   ]
  },
  {
   "cell_type": "code",
   "execution_count": null,
   "id": "normal-danger",
   "metadata": {},
   "outputs": [],
   "source": [
    "xmin = -10\n",
    "xmax = 10\n",
    "ymin = -10\n",
    "ymax = 10\n",
    "zmin = -10\n",
    "zmax = 10\n",
    "funcInit[a_, b_, c_] := f /. {x->a, y->b, z->c}\n",
    "ContourPlot3D[funcInit[x, y, z] == 0, {x, xmin, xmax}, {y, ymin, ymax}, {z, zmin, zmax}]"
   ]
  },
  {
   "cell_type": "markdown",
   "id": "minus-closing",
   "metadata": {},
   "source": [
    "график исходной функции\n",
    "запишем коэффициенты уравнения поверхности"
   ]
  },
  {
   "cell_type": "code",
   "execution_count": null,
   "id": "mineral-hughes",
   "metadata": {},
   "outputs": [],
   "source": [
    "a11 = 6\n",
    "a22 = 7\n",
    "a33 = 3\n",
    "a12 = 6\n",
    "a13 = 1\n",
    "a23 = 0 \n",
    "a0 = -18\n",
    "a1 = 5 / 2\n",
    "a2 = 5 / 2\n",
    "a3 = 5 / 2\n",
    "\n",
    "A = {\n",
    "        {a11, a12, a13},\n",
    "        {a12, a22, a23},\n",
    "        {a13, a23, a33}\n",
    "    };\n",
    "A // MatrixForm"
   ]
  },
  {
   "cell_type": "markdown",
   "id": "bizarre-locator",
   "metadata": {},
   "source": [
    "Характеристический многочлен"
   ]
  },
  {
   "cell_type": "code",
   "execution_count": null,
   "id": "perceived-heather",
   "metadata": {},
   "outputs": [],
   "source": [
    "detA = Det[A - IdentityMatrix[3] * l]\n",
    "detA // TraditionalForm"
   ]
  },
  {
   "cell_type": "markdown",
   "id": "broken-daniel",
   "metadata": {},
   "source": [
    "Проверим найденный характеристический многочлен, через стандартный метод"
   ]
  },
  {
   "cell_type": "code",
   "execution_count": null,
   "id": "friendly-virginia",
   "metadata": {},
   "outputs": [],
   "source": [
    "standDetA = CharacteristicPolynomial[A, l]\n",
    "SameQ[detA, standDetA]"
   ]
  },
  {
   "cell_type": "markdown",
   "id": "ancient-jimmy",
   "metadata": {},
   "source": [
    "Найдем собственные числа"
   ]
  },
  {
   "cell_type": "code",
   "execution_count": null,
   "id": "individual-circus",
   "metadata": {},
   "outputs": [],
   "source": [
    "sols = Solve[detA == 0, l]\n",
    "eigenVal = l /. sols"
   ]
  },
  {
   "cell_type": "markdown",
   "id": "descending-services",
   "metadata": {},
   "source": [
    "Проверим найденные собственные числа, через стандартный метод"
   ]
  },
  {
   "cell_type": "code",
   "execution_count": null,
   "id": "proper-bottom",
   "metadata": {},
   "outputs": [],
   "source": [
    "standEigenVal = Eigenvalues[A]"
   ]
  },
  {
   "cell_type": "code",
   "execution_count": null,
   "id": "medium-tribe",
   "metadata": {},
   "outputs": [],
   "source": [
    "SameQ[eigenVal, standEigenVal]"
   ]
  },
  {
   "cell_type": "markdown",
   "id": "catholic-winner",
   "metadata": {},
   "source": [
    "значения одинаковы, но в разном порядке, сортируем"
   ]
  },
  {
   "cell_type": "code",
   "execution_count": null,
   "id": "nearby-crash",
   "metadata": {},
   "outputs": [],
   "source": [
    "SameQ[Sort[eigenVal], Sort[standEigenVal]]"
   ]
  },
  {
   "cell_type": "markdown",
   "id": "thick-closure",
   "metadata": {},
   "source": [
    "СЛАУ для первого собственного вектора"
   ]
  },
  {
   "cell_type": "code",
   "execution_count": null,
   "id": "instant-praise",
   "metadata": {},
   "outputs": [],
   "source": [
    "A1 = A - IdentityMatrix[3] * l /. l -> eigenVal[[1]]\n",
    "\n",
    "X = {x, y, z}\n",
    "A1X = A1.X"
   ]
  },
  {
   "cell_type": "markdown",
   "id": "material-projector",
   "metadata": {},
   "source": [
    "Первый собственный вектор"
   ]
  },
  {
   "cell_type": "code",
   "execution_count": null,
   "id": "color-capability",
   "metadata": {},
   "outputs": [],
   "source": [
    "eigenVec1 = Solve[A1X == 0 /. z->1]\n",
    "eigenVec1 = {x, y, 1} /. eigenVec1[[1]]"
   ]
  },
  {
   "cell_type": "markdown",
   "id": "explicit-breath",
   "metadata": {},
   "source": [
    "СЛАУ для второго собственного вектора"
   ]
  },
  {
   "cell_type": "code",
   "execution_count": null,
   "id": "respiratory-subcommittee",
   "metadata": {},
   "outputs": [],
   "source": [
    "A2 = A - IdentityMatrix[3] * l /. l -> eigenVal[[2]]\n",
    "A2X = A2.X"
   ]
  },
  {
   "cell_type": "markdown",
   "id": "dirty-retention",
   "metadata": {},
   "source": [
    "Второй собственный вектор"
   ]
  },
  {
   "cell_type": "code",
   "execution_count": null,
   "id": "technical-denver",
   "metadata": {},
   "outputs": [],
   "source": [
    "eigenVec2 = Solve[A2X == 0 /. z->1];\n",
    "eigenVec2 = {x, y, 1} /. eigenVec2[[1]]"
   ]
  },
  {
   "cell_type": "markdown",
   "id": "indonesian-revision",
   "metadata": {},
   "source": [
    "СЛАУ для третьего собственного вектора"
   ]
  },
  {
   "cell_type": "code",
   "execution_count": null,
   "id": "bound-slide",
   "metadata": {},
   "outputs": [],
   "source": [
    "A3 = A - IdentityMatrix[3] * l /. l -> eigenVal[[3]];\n",
    "A3X = A3.X;"
   ]
  },
  {
   "cell_type": "markdown",
   "id": "verified-storage",
   "metadata": {},
   "source": [
    "Третий собственный вектор"
   ]
  },
  {
   "cell_type": "code",
   "execution_count": null,
   "id": "loving-combining",
   "metadata": {},
   "outputs": [],
   "source": [
    "eigenVec3 = Solve[A3X == 0 /. z->1];\n",
    "eigenVec3 = {x, y, 1} /. eigenVec3[[1]]"
   ]
  },
  {
   "cell_type": "markdown",
   "id": "clinical-laser",
   "metadata": {},
   "source": [
    "Проверим найденные собственные вектора с помощью стандартного метода"
   ]
  },
  {
   "cell_type": "code",
   "execution_count": null,
   "id": "surface-exploration",
   "metadata": {},
   "outputs": [],
   "source": [
    "standEigenSystem = Eigensystem[A]\n",
    "standEigenSystem"
   ]
  },
  {
   "cell_type": "markdown",
   "id": "cardiac-least",
   "metadata": {},
   "source": [
    "Видно, что значения совпадают. Сравниваем в численном виде"
   ]
  },
  {
   "cell_type": "code",
   "execution_count": null,
   "id": "recent-rugby",
   "metadata": {},
   "outputs": [],
   "source": [
    "SameQ[N[standEigenSystem[[2, 3]]], N[eigenVec1]]\n",
    "SameQ[N[standEigenSystem[[2, 2]]], N[eigenVec2]]\n",
    "SameQ[N[standEigenSystem[[2, 1]]], N[eigenVec3]]"
   ]
  },
  {
   "cell_type": "markdown",
   "id": "fiscal-crawford",
   "metadata": {},
   "source": [
    "Второе ложно из-за погрешности в вычислениях"
   ]
  },
  {
   "cell_type": "code",
   "execution_count": null,
   "id": "protected-essence",
   "metadata": {},
   "outputs": [],
   "source": [
    "N[eigenVec2]"
   ]
  },
  {
   "cell_type": "code",
   "execution_count": null,
   "id": "essential-moderator",
   "metadata": {},
   "outputs": [],
   "source": [
    "N[standEigenSystem[[2, 2]]]"
   ]
  },
  {
   "cell_type": "markdown",
   "id": "chief-booking",
   "metadata": {},
   "source": [
    "Матрица собственных векторов"
   ]
  },
  {
   "cell_type": "code",
   "execution_count": null,
   "id": "governing-maryland",
   "metadata": {},
   "outputs": [],
   "source": [
    "S = Transpose[{\n",
    "    Normalize[eigenVec1], \n",
    "    Normalize[eigenVec2],\n",
    "    Normalize[eigenVec3]\n",
    "}];\n",
    "N[S] // MatrixForm"
   ]
  },
  {
   "cell_type": "code",
   "execution_count": null,
   "id": "human-central",
   "metadata": {},
   "outputs": [],
   "source": [
    "N[S] // MatrixForm"
   ]
  },
  {
   "cell_type": "markdown",
   "id": "first-trance",
   "metadata": {},
   "source": [
    "Вектор столбец"
   ]
  },
  {
   "cell_type": "code",
   "execution_count": null,
   "id": "stunning-summary",
   "metadata": {},
   "outputs": [],
   "source": [
    "a = {2.5, 2.5, 2.5}\n",
    "a // MatrixForm"
   ]
  },
  {
   "cell_type": "markdown",
   "id": "ordinary-listing",
   "metadata": {},
   "source": [
    "умножаем транспонированную матрицу на вектор столбец $S^T*a$ "
   ]
  },
  {
   "cell_type": "code",
   "execution_count": null,
   "id": "soviet-virginia",
   "metadata": {},
   "outputs": [],
   "source": [
    "a1 = Transpose[S].a\n",
    "N[a1] // MatrixForm"
   ]
  },
  {
   "cell_type": "markdown",
   "id": "unique-retailer",
   "metadata": {},
   "source": [
    "Канонический вид уравнения"
   ]
  },
  {
   "cell_type": "code",
   "execution_count": null,
   "id": "massive-shakespeare",
   "metadata": {},
   "outputs": [],
   "source": [
    "canonicalView = eigenVal[[1]] * x1^2 + eigenVal[[2]] * y1^2 + eigenVal[[3]] * z1^2 + 2 * a1[[1]] * x1 + 2 * a1[[2]] * y1 + 2 * a1[[3]] * z1 + a0\n",
    "ExpandAll[FullSimplify[canonicalView]]"
   ]
  },
  {
   "cell_type": "markdown",
   "id": "sublime-encounter",
   "metadata": {},
   "source": [
    "Ненулевые коэффициенты при $x_1, y_1, z_1$. \n",
    "При квадратах $x_1, y_1$ и $z_1$ есть ненулевые коэффициенты, дополним эти члены до полного квадрата с последующей заменой"
   ]
  },
  {
   "cell_type": "code",
   "execution_count": null,
   "id": "designed-annex",
   "metadata": {},
   "outputs": [],
   "source": [
    "canonicalView = canonicalView /. (eigenVal[[1]] * x1^2 + 2 * a1[[1]] * x1) -> (eigenVal[[1]] * (x1 + a1[[1]] / eigenVal[[1]])^2 - eigenVal[[1]] * (a1[[1]] / eigenVal[[1]])^2)\n",
    "canonicalView = canonicalView /. (eigenVal[[2]] * y1^2 + 2 * a1[[2]] * y1) -> (eigenVal[[2]] * (y1 + a1[[2]] / eigenVal[[2]])^2 - eigenVal[[2]] * (a1[[2]] / eigenVal[[2]])^2)\n",
    "canonicalView = canonicalView /. (eigenVal[[3]] * z1^2 + 2 * a1[[3]] * z1) -> (eigenVal[[3]] * (z1 + a1[[3]] / eigenVal[[3]])^2 - eigenVal[[3]] * (a1[[3]] / eigenVal[[3]])^2)\n",
    "canonicalView = canonicalView /. (x1 + a1[[1]] / eigenVal[[1]]) -> x1\n",
    "canonicalView = canonicalView /. (y1 + a1[[2]] / eigenVal[[2]]) -> y1\n",
    "canonicalView = canonicalView /. (z1 + a1[[3]] / eigenVal[[3]]) -> z1\n",
    "canonicalView"
   ]
  },
  {
   "cell_type": "code",
   "execution_count": null,
   "id": "intense-instrument",
   "metadata": {},
   "outputs": [],
   "source": [
    "ExpandAll[FullSimplify[canonicalView]]"
   ]
  },
  {
   "cell_type": "markdown",
   "id": "average-dancing",
   "metadata": {},
   "source": [
    "Получим свободный компонент"
   ]
  },
  {
   "cell_type": "code",
   "execution_count": null,
   "id": "potential-nurse",
   "metadata": {},
   "outputs": [],
   "source": [
    "freeComponent = canonicalView /. {x1->0, y1->0, z1->0}"
   ]
  },
  {
   "cell_type": "markdown",
   "id": "occupational-corps",
   "metadata": {},
   "source": [
    "Переименнуем координатные оси, так, чтобы линейный коэффициент был по оси Z"
   ]
  },
  {
   "cell_type": "code",
   "execution_count": null,
   "id": "solved-network",
   "metadata": {},
   "outputs": [],
   "source": [
    "canonicalView = canonicalView /. {x1->z1, z1->x1}\n",
    "canonicalView = canonicalView /. {x1->y1, y1->x1}"
   ]
  },
  {
   "cell_type": "code",
   "execution_count": null,
   "id": "amateur-element",
   "metadata": {},
   "outputs": [],
   "source": [
    "canonical[a_, b_, c_] := canonicalView /. {x1->a, y1->b, z1->c}"
   ]
  },
  {
   "cell_type": "markdown",
   "id": "alpha-visiting",
   "metadata": {},
   "source": [
    "Построим поверхность"
   ]
  },
  {
   "cell_type": "code",
   "execution_count": null,
   "id": "crucial-anniversary",
   "metadata": {},
   "outputs": [],
   "source": [
    "ContourPlot3D[canonical[x, y, z] == 0, {x, xmin, xmax}, {y, ymin, ymax}, {z, zmin, zmax}]"
   ]
  },
  {
   "cell_type": "code",
   "execution_count": null,
   "id": "accomplished-pearl",
   "metadata": {},
   "outputs": [],
   "source": []
  }
 ],
 "metadata": {
  "kernelspec": {
   "display_name": "Wolfram Language 12.2",
   "language": "Wolfram Language",
   "name": "wolframlanguage12.2"
  }
 },
 "nbformat": 4,
 "nbformat_minor": 5
}
